{
 "cells": [
  {
   "cell_type": "markdown",
   "source": [
    "In this notebook, we will show how to conduct co-simulation for an air-cooled data center with one CRAC unit and a chiller plant. In this case, the control variables are the the CRAC supply air flow rate and the supply air temperature setpoint."
   ],
   "metadata": {
    "collapsed": false
   }
  },
  {
   "cell_type": "code",
   "execution_count": null,
   "metadata": {
    "collapsed": true
   },
   "outputs": [],
   "source": [
    "import numpy as np\n",
    "\n",
    "from dctwin.interfaces.gym_envs import CoSimEnv\n",
    "from dctwin.utils import config as env_config\n",
    "from dctwin.utils import read_engine_config, setup_logging\n",
    "from hooks import map_boundary_condition_fn\n",
    "from google.protobuf import json_format"
   ]
  },
  {
   "cell_type": "markdown",
   "source": [
    "(1) Setup environment variables"
   ],
   "metadata": {
    "collapsed": false
   }
  },
  {
   "cell_type": "code",
   "execution_count": null,
   "outputs": [],
   "source": [
    "engine_config = \"example.prototxt\"\n",
    "env_config.eplus.engine_config_file = engine_config"
   ],
   "metadata": {
    "collapsed": false
   }
  },
  {
   "cell_type": "markdown",
   "source": [
    "(2) Read configuration files"
   ],
   "metadata": {
    "collapsed": false
   }
  },
  {
   "cell_type": "code",
   "execution_count": null,
   "outputs": [],
   "source": [
    "config = read_engine_config(engine_config=engine_config)\n",
    "setup_logging(config.logging_config, engine_config=engine_config)"
   ],
   "metadata": {
    "collapsed": false
   }
  },
  {
   "cell_type": "markdown",
   "source": [
    "(3) Build environment"
   ],
   "metadata": {
    "collapsed": false
   }
  },
  {
   "cell_type": "code",
   "execution_count": null,
   "outputs": [],
   "source": [
    "env_config_name = config.WhichOneof(\"EnvConfig\")\n",
    "env_params = json_format.MessageToDict(\n",
    "    getattr(config, env_config_name).env_params,\n",
    "    preserving_proto_field_name=True,\n",
    ")\n",
    "env = CoSimEnv(\n",
    "    config=getattr(config, env_config_name),\n",
    "    reward_fn=None,\n",
    "    schedule_fn=None,\n",
    "    map_boundary_condition_fn=map_boundary_condition_fn,\n",
    "    **env_params,\n",
    ")\n",
    "env.reset()"
   ],
   "metadata": {
    "collapsed": false
   }
  },
  {
   "cell_type": "markdown",
   "source": [
    "(4) Specify the action dictionary"
   ],
   "metadata": {
    "collapsed": false
   }
  },
  {
   "cell_type": "code",
   "execution_count": null,
   "outputs": [],
   "source": [
    "action_dict = {\n",
    "    \"ACU1_setpoint\": 20.0,\n",
    "    \"ACU1_flow_rate\": 15.0,\n",
    "    \"chw_supply_sp\": 10.0\n",
    "}"
   ],
   "metadata": {
    "collapsed": false
   }
  },
  {
   "cell_type": "markdown",
   "source": [
    "Note: the action_dict should be in the format of: { \"{uid}_setpoint\": xxx, \"{uid}_flow_rate\": xxx,  ...(other actions for the chiller plant side (e.g., chilled water temperature, ....) to be sent to EnergyPlus) } The \"uid\" can be obtained by running the previous cell. Each CRAC should have a setpoint and a flow rate."
   ],
   "metadata": {
    "collapsed": false
   }
  },
  {
   "cell_type": "markdown",
   "source": [
    "(5) Run energy simulation with fixed action to obtain energy consumption result Note: we highly recommend you to open the dry run mode to speed up simulation as we use the fixed action to run the simulation and we should not run CFD simulation again! Instead, we use the cached CFD result to pass to EnergyPlus\n"
   ],
   "metadata": {
    "collapsed": false
   }
  },
  {
   "cell_type": "code",
   "execution_count": null,
   "outputs": [],
   "source": [
    "act = np.array([\n",
    "    action_dict[\"ACU1_setpoint\"],\n",
    "    action_dict[\"ACU1_flow_rate\"],\n",
    "    action_dict[\"chw_supply_sp\"]\n",
    "])\n",
    "done = False\n",
    "env_config.cfd.dry_run = True\n",
    "env_config.cfd.mesh_dir = env_config.LOG_DIR.joinpath(\"base\")\n",
    "while not done:\n",
    "    obs, rew, done, truncated, info = env.step(act)"
   ],
   "metadata": {
    "collapsed": false
   }
  },
  {
   "cell_type": "markdown",
   "source": [],
   "metadata": {
    "collapsed": false
   }
  }
 ],
 "metadata": {
  "kernelspec": {
   "display_name": "Python 3",
   "language": "python",
   "name": "python3"
  },
  "language_info": {
   "codemirror_mode": {
    "name": "ipython",
    "version": 2
   },
   "file_extension": ".py",
   "mimetype": "text/x-python",
   "name": "python",
   "nbconvert_exporter": "python",
   "pygments_lexer": "ipython2",
   "version": "2.7.6"
  }
 },
 "nbformat": 4,
 "nbformat_minor": 0
}
