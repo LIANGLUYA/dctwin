{
 "cells": [
  {
   "cell_type": "markdown",
   "source": [
    "In this notebook, we will show how to conduct energy simulation for an air-cooled data center with 5 data halls and a chiller plant with 5 chillers. In this case, the control variables is the chilled water supply temperature."
   ],
   "metadata": {
    "collapsed": false
   }
  },
  {
   "cell_type": "code",
   "execution_count": null,
   "outputs": [],
   "source": [
    "import numpy as np\n",
    "from dctwin.interfaces.gym_envs import EPlusEnv\n",
    "from dctwin.utils import config as env_config\n",
    "from google.protobuf import json_format\n",
    "\n",
    "from dctwin.utils import setup_logging, read_engine_config"
   ],
   "metadata": {
    "collapsed": false,
    "ExecuteTime": {
     "start_time": "2023-08-02T23:50:07.774842Z",
     "end_time": "2023-08-02T23:50:09.683908Z"
    }
   }
  },
  {
   "cell_type": "markdown",
   "source": [
    "(1) Setup environment variables"
   ],
   "metadata": {
    "collapsed": false
   }
  },
  {
   "cell_type": "code",
   "execution_count": null,
   "outputs": [],
   "source": [
    "engine_config = \"example.prototxt\"\n",
    "env_config.eplus.engine_config_file = engine_config"
   ],
   "metadata": {
    "collapsed": false,
    "ExecuteTime": {
     "start_time": "2023-08-03T00:10:43.575506Z",
     "end_time": "2023-08-03T00:10:43.575766Z"
    }
   }
  },
  {
   "cell_type": "markdown",
   "source": [
    "(2) Read configuration files"
   ],
   "metadata": {
    "collapsed": false
   }
  },
  {
   "cell_type": "code",
   "execution_count": null,
   "outputs": [],
   "source": [
    "config = read_engine_config(engine_config=engine_config)\n",
    "setup_logging(config.logging_config, engine_config=engine_config)"
   ],
   "metadata": {
    "collapsed": false,
    "ExecuteTime": {
     "start_time": "2023-08-03T00:10:44.601144Z",
     "end_time": "2023-08-03T00:10:44.636927Z"
    }
   }
  },
  {
   "cell_type": "markdown",
   "source": [],
   "metadata": {
    "collapsed": false
   }
  },
  {
   "cell_type": "markdown",
   "source": [
    "(3) Build environment"
   ],
   "metadata": {
    "collapsed": false
   }
  },
  {
   "cell_type": "code",
   "execution_count": null,
   "outputs": [],
   "source": [
    "env_config_name = config.WhichOneof(\"EnvConfig\")\n",
    "env_params = json_format.MessageToDict(\n",
    "    getattr(config, env_config_name).env_params,\n",
    "    preserving_proto_field_name=True,\n",
    ")\n",
    "env = EPlusEnv(\n",
    "    config=getattr(config, env_config_name),\n",
    "    reward_fn=None,\n",
    "    schedule_fn=None,\n",
    "    **env_params,\n",
    ")"
   ],
   "metadata": {
    "collapsed": false,
    "ExecuteTime": {
     "start_time": "2023-08-03T00:10:47.226678Z",
     "end_time": "2023-08-03T00:10:47.308692Z"
    }
   }
  },
  {
   "cell_type": "markdown",
   "source": [
    "(4) Run EnergyPlus simulation"
   ],
   "metadata": {
    "collapsed": false
   }
  },
  {
   "cell_type": "code",
   "execution_count": null,
   "outputs": [],
   "source": [
    "water_supply_sp = 12.0\n",
    "env.reset()\n",
    "done = False\n",
    "while not done:\n",
    "    act = np.array([water_supply_sp])\n",
    "    obs, rew, done, truncated, info = env.step(act)"
   ],
   "metadata": {
    "collapsed": false,
    "ExecuteTime": {
     "start_time": "2023-08-03T00:10:49.463204Z",
     "end_time": "2023-08-03T00:11:24.808392Z"
    }
   }
  }
 ],
 "metadata": {
  "kernelspec": {
   "display_name": "Python 3",
   "language": "python",
   "name": "python3"
  },
  "language_info": {
   "codemirror_mode": {
    "name": "ipython",
    "version": 2
   },
   "file_extension": ".py",
   "mimetype": "text/x-python",
   "name": "python",
   "nbconvert_exporter": "python",
   "pygments_lexer": "ipython2",
   "version": "2.7.6"
  }
 },
 "nbformat": 4,
 "nbformat_minor": 0
}
