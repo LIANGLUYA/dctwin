{
 "cells": [
  {
   "cell_type": "markdown",
   "source": [
    "In this toturial, we will go through how to run multiple CFD simulations with different boundary conditions to form a CFD simulation dataset from which we extract POD modes. The room model is identical to the one in tutorial/cfd, which is a data hall containing one CRAC unit and 20 racks."
   ],
   "metadata": {
    "collapsed": false
   }
  },
  {
   "cell_type": "code",
   "execution_count": null,
   "metadata": {
    "collapsed": true
   },
   "outputs": [],
   "source": [
    "from pathlib import Path\n",
    "import sys\n",
    "sys.path.append(str(Path(\"../..\").absolute()))\n",
    "\n",
    "import yaml\n",
    "import json\n",
    "import numpy as np\n",
    "\n",
    "from dctwin.models.eplus.eplus import Eplus\n",
    "from dctwin.interfaces import CFDManager\n",
    "from dctwin.models import Room\n",
    "from dctwin.utils import read_engine_config, setup_logging\n",
    "\n",
    "from loguru import logger\n",
    "\n",
    "from dctwin.utils import config as env_config"
   ]
  },
  {
   "cell_type": "markdown",
   "source": [
    "(1) Load the simulation plan"
   ],
   "metadata": {
    "collapsed": false
   }
  },
  {
   "cell_type": "code",
   "execution_count": null,
   "outputs": [],
   "source": [
    "with open(\"simulation_plan.yaml\", \"r\") as f:\n",
    "    simulation_plan = yaml.safe_load(f)\n",
    "simulation_plan"
   ],
   "metadata": {
    "collapsed": false
   }
  },
  {
   "cell_type": "markdown",
   "source": [
    "* server_flow_rate_noise: whether to add noise to the server flow rate\n",
    "* noise_factor: standard deviation of the noise added to the server flow rate\n",
    "* server_flow_rate_factor: the ratio between the total server flow rate and the total CRAC supply flow rate\n",
    "* supply_temp: CRAC supply temperate used in the simulation\n",
    "* supply_flow_rate: CRAC supply flow rate (kg/s) used in the simulation.\n",
    "* cpu_load_scheduling: server CPU utilization used in the simulation.\n",
    "\n",
    "In this case, we will build a CFD simulation dataset with #supply_temp $\\times$ #supply_flow_rate $\\times$ #cpu_load_scheduling samples."
   ],
   "metadata": {
    "collapsed": false
   }
  },
  {
   "cell_type": "markdown",
   "source": [
    "(2) Configure logging directory"
   ],
   "metadata": {
    "collapsed": false
   }
  },
  {
   "cell_type": "code",
   "execution_count": null,
   "outputs": [],
   "source": [],
   "metadata": {
    "collapsed": false
   }
  },
  {
   "cell_type": "code",
   "execution_count": null,
   "outputs": [],
   "source": [
    "config = read_engine_config(engine_config=\"config.prototxt\")\n",
    "setup_logging(config.logging_config, engine_config=\"config.prototxt\")"
   ],
   "metadata": {
    "collapsed": false
   }
  },
  {
   "cell_type": "markdown",
   "source": [
    "(3) Set the geometry/mesh dir. This is useful if you have obtained a directory that containing the geometry and mesh files. In this case, no additional geometry/meshing running will be conducted to speed-up the simulation"
   ],
   "metadata": {
    "collapsed": false
   }
  },
  {
   "cell_type": "code",
   "execution_count": null,
   "outputs": [],
   "source": [
    "env_config.cfd.mesh_dir = config.hybrid_env_config.cfd.mesh_dir"
   ],
   "metadata": {
    "collapsed": false
   }
  },
  {
   "cell_type": "markdown",
   "source": [
    "(4) Load the room model, which serves as the input to the geometry/mesh module of the CFDBackend"
   ],
   "metadata": {
    "collapsed": false
   }
  },
  {
   "cell_type": "code",
   "execution_count": null,
   "outputs": [],
   "source": [
    "room = Room.load(config.hybrid_env_config.cfd.geometry_file)"
   ],
   "metadata": {
    "collapsed": false
   }
  },
  {
   "cell_type": "markdown",
   "source": [
    "(5) Build CFDManager. To see how the CFDManager works, please refer to the tutorial/cfd/example.ipynb for more details."
   ],
   "metadata": {
    "collapsed": false
   }
  },
  {
   "cell_type": "code",
   "execution_count": null,
   "outputs": [],
   "source": [
    "cfd_manager = CFDManager(\n",
    "    room=room,\n",
    "    write_interval=100,\n",
    "    end_time=500,\n",
    ")"
   ],
   "metadata": {
    "collapsed": false
   }
  },
  {
   "cell_type": "markdown",
   "source": [
    "(6) Setup EnergyPlus idf file parser. Since the POD is used to couple with the EnergyPlus to perform co-simulation, we should use the power curve specified in the EnergyPlus model file to calculate the server power consumption."
   ],
   "metadata": {
    "collapsed": false
   }
  },
  {
   "cell_type": "code",
   "execution_count": null,
   "outputs": [],
   "source": [
    "idf_parser = IDFParser(config.hybrid_env_config.eplus.model_file)"
   ],
   "metadata": {
    "collapsed": false
   }
  },
  {
   "cell_type": "markdown",
   "source": [
    "(7) Setup EnergyPlus-CFD object mapping."
   ],
   "metadata": {
    "collapsed": false
   }
  },
  {
   "cell_type": "code",
   "execution_count": null,
   "outputs": [],
   "source": [
    "with open(config.hybrid_env_config.cfd.idf2room_map) as f:\n",
    "    idf2room_mapper = json.load(f)\n",
    "idf2room_mapper"
   ],
   "metadata": {
    "collapsed": false
   }
  },
  {
   "cell_type": "markdown",
   "source": [
    "The object maps the object name in the idf files (e.g., \"west zone air system\") to the object names in the geometry file (e.g., \"ACU1\"). In the EnergyPlus, each thermal zone should be equipped with a \"ITEElectricalEquipment:AirCooled\" object. To build the co-simulation model, we should specify which physical servers belongs to this EnergyPlus object so that we can set the power boundary condition for the serve belongs to it."
   ],
   "metadata": {
    "collapsed": false
   }
  },
  {
   "cell_type": "markdown",
   "source": [
    "(8) Conducting the simulation plan. Multiple CFD simulation will be conducted with different boundary conditions and fixed geometry. Note: we do not consider the relationship between server power consumption and server inlet temperature and assume that the server power consumption is proportional to the CPU utilization, which is also a common setting in data center modeling. In the future, we will consider adding this feature to enhance the simulation model."
   ],
   "metadata": {
    "collapsed": false
   }
  },
  {
   "cell_type": "code",
   "execution_count": null,
   "outputs": [],
   "source": [
    "rho_air = 1.19\n",
    "case_idx = 1\n",
    "for supply_temp in simulation_plan[\"supply_temp\"]:\n",
    "    for supply_flow_rate in simulation_plan[\"supply_flow_rate\"]:\n",
    "        for utilization in simulation_plan[\"cpu_load_scheduling\"]:\n",
    "            # initialize boundary condition dictionary\n",
    "            boundary_conditions = {\n",
    "                \"crac_setpoints\": {}, \"crac_flow_rates\": {},\n",
    "                \"server_powers\": {}, \"server_flow_rates\": {}\n",
    "            }\n",
    "            # set CRAC boundary conditions\n",
    "            for crac in idf_parser.epm.AirLoopHVAC:\n",
    "                uid = idf2room_mapper[crac.name]\n",
    "                boundary_conditions[\"crac_setpoints\"][uid] = supply_temp\n",
    "                boundary_conditions[\"crac_flow_rates\"][uid] = supply_flow_rate / rho_air\n",
    "            # compute server power and server flow rate according to CPU load scheduling\n",
    "            for it_equipment in idf_parser.epm.ElectricEquipment_ITE_AirCooled:\n",
    "                for server_id in idf2room_mapper[it_equipment.name][\"servers\"]:\n",
    "                    heat_load = idf_parser.compute_server_power(\n",
    "                        utilization=utilization,\n",
    "                        inlet_temperature=None,\n",
    "                        name=it_equipment.name\n",
    "                    )\n",
    "                    mass_flow_rate = idf_parser.compute_server_flow_rate(\n",
    "                        heat_load,\n",
    "                        name=it_equipment.name,\n",
    "                    )\n",
    "                    if simulation_plan[\"server_flow_rate_noise\"]:\n",
    "                        mu = mass_flow_rate\n",
    "                        sigma = simulation_plan[\"noise_factor\"] * mass_flow_rate\n",
    "                        mass_flow_rate = np.clip(np.random.normal(loc=mu, scale=sigma),\n",
    "                                                 a_min=mu-3*sigma, a_max=mu+3*sigma)\n",
    "                    volume_flow_rate = mass_flow_rate / rho_air\n",
    "                    boundary_conditions[\"server_powers\"][server_id] = heat_load\n",
    "                    boundary_conditions[\"server_flow_rates\"][server_id] = volume_flow_rate\n",
    "            # scale server flow rate according to the supply air flow rate\n",
    "            for it_equipment in idf_parser.epm.ElectricEquipment_ITE_AirCooled:\n",
    "                uid = idf2room_mapper[it_equipment.name][\"crac\"]\n",
    "                supply_flow_rate = boundary_conditions[\"crac_flow_rates\"][uid]\n",
    "                sum_server_flow_rate = 0\n",
    "                for server_id in idf2room_mapper[it_equipment.name][\"servers\"]:\n",
    "                    sum_server_flow_rate += boundary_conditions[\"server_flow_rates\"][server_id]\n",
    "                scale_factor = supply_flow_rate * simulation_plan[\"server_flow_rate_factor\"] / sum_server_flow_rate\n",
    "                for server_id in idf2room_mapper[it_equipment.name][\"servers\"]:\n",
    "                    boundary_conditions[\"server_flow_rates\"][server_id] *= scale_factor\n",
    "            # inform boundary conditions\n",
    "            total_power = sum(boundary_conditions[\"server_powers\"].values())\n",
    "            total_server_flow_rate = sum(boundary_conditions[\"server_flow_rates\"].values())\n",
    "            logger.info(f\" # Simulation = {case_idx},\"\n",
    "                        f\" SupplyT = {supply_temp},\"\n",
    "                        f\" SupplyM = {round(supply_flow_rate, 2)},\"\n",
    "                        f\" Q = {round(float(total_power), 2)},\"\n",
    "                        f\" ServerM = {round(float(total_server_flow_rate), 2)}\")\n",
    "            # save boundary condition\n",
    "            cfd_manager.run(\n",
    "                case_index=case_idx,\n",
    "                **boundary_conditions\n",
    "            )\n",
    "            case_idx += 1"
   ],
   "metadata": {
    "collapsed": false
   }
  },
  {
   "cell_type": "markdown",
   "source": [
    "Alternatively, you can also run co-simulation with to obtain the CFD simulation dataset. What distinguish co-sim with the above batch CFD simulation example: by running the co-simulation, we can get a temperature trajectory where we can consider the server and fan power consumption related to the server inlet temperature. Specifically, at the of time slot $ t $, the server power is computed as $ P_{t} = f(u_{t}, T^{in}_{t-1}) $ and the server flow rate will be computed as $ m_{t} = g(u_{t}, T^{in}_{t-1}) $. Where the $ T^{in}_{t-1} $ is the server inlet temperature at the beggining of the time slot $ t $ which has already been computed by running the simulation at the time slot $ t-1 $. In the batch CFD mode, we cannot know the server inlet temperature in advance and we cannot model the server power consumption as a function of server inlet tempearture."
   ],
   "metadata": {
    "collapsed": false
   }
  },
  {
   "cell_type": "code",
   "execution_count": null,
   "outputs": [],
   "source": [
    "from google.protobuf import json_format\n",
    "from dctwin.interfaces import CoSimEnv\n",
    "\n",
    "# initialize environment\n",
    "env_config_name = config.WhichOneof(\"EnvConfig\")\n",
    "env_params = json_format.MessageToDict(\n",
    "    getattr(config, env_config_name).env_params,\n",
    "    preserving_proto_field_name=True,\n",
    ")\n",
    "env = CoSimEnv(\n",
    "    config=getattr(config, env_config_name),\n",
    "    reward_fn=None,\n",
    "    schedule_fn=None,\n",
    "    **env_params,\n",
    ")\n",
    "\n",
    "# reset environment\n",
    "env.reset()\n",
    "\n",
    "# conduct simulation plan\n",
    "for supply_temp in simulation_plan[\"supply_temp\"]:\n",
    "    for supply_flow_rate in simulation_plan[\"supply_flow_rate\"]:\n",
    "        for utilization in simulation_plan[\"cpu_load_scheduling\"]:\n",
    "            env.step(\n",
    "                raw_action=np.asarray([utilization, supply_temp, supply_flow_rate])\n",
    "            )\n",
    "\n",
    "# close environment and clean up all running containment\n",
    "env.close()"
   ],
   "metadata": {
    "collapsed": false
   }
  },
  {
   "cell_type": "markdown",
   "source": [],
   "metadata": {
    "collapsed": false
   }
  }
 ],
 "metadata": {
  "kernelspec": {
   "display_name": "Python 3",
   "language": "python",
   "name": "python3"
  },
  "language_info": {
   "codemirror_mode": {
    "name": "ipython",
    "version": 2
   },
   "file_extension": ".py",
   "mimetype": "text/x-python",
   "name": "python",
   "nbconvert_exporter": "python",
   "pygments_lexer": "ipython2",
   "version": "2.7.6"
  }
 },
 "nbformat": 4,
 "nbformat_minor": 0
}
