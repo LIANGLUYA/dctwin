{
 "cells": [
  {
   "cell_type": "markdown",
   "source": [
    "In this tutorial, we will show how to extract POD modes on a given CFD simulation dataset and build a multioutput Gaussian Process Regression model to conduct online real-time temperature field prediction"
   ],
   "metadata": {
    "collapsed": false,
    "pycharm": {
     "name": "#%% md\n"
    }
   }
  },
  {
   "cell_type": "code",
   "execution_count": null,
   "metadata": {
    "collapsed": true,
    "pycharm": {
     "name": "#%%\n"
    }
   },
   "outputs": [],
   "source": [
    "from pathlib import Path\n",
    "import sys\n",
    "\n",
    "from dctwin.models import Room\n",
    "\n",
    "sys.path.append(str(Path(\"../..\").absolute()))\n",
    "\n",
    "from dctwin.interfaces import PODBuilder\n",
    "\n",
    "from dctwin.utils import config as env_config"
   ]
  },
  {
   "cell_type": "markdown",
   "source": [
    "(1) Setup POD Builder."
   ],
   "metadata": {
    "collapsed": false,
    "pycharm": {
     "name": "#%% md\n"
    }
   }
  },
  {
   "cell_type": "code",
   "execution_count": null,
   "outputs": [],
   "source": [
    "env_config.cfd.mesh_dir = \"log/base\"\n",
    "env_config.CASE_DIR = \"{directory that stores CFD simulation results}\"\n",
    "room = Room.load(\"model/geometry/room.json\")\n",
    "builder = PODBuilder(\n",
    "    room=room,\n",
    "    num_modes=5,\n",
    "    max_iter=100\n",
    ")"
   ],
   "metadata": {
    "collapsed": false,
    "pycharm": {
     "name": "#%%\n"
    }
   }
  },
  {
   "cell_type": "markdown",
   "source": [
    "(2) Run builder to obtain POD modes and GP models. The POD Builder will first read all temperature fields in the cfd_result_dir and then calculates the POD modes. Subsequently, it will build the GP models to predict the POD coefficients for arbitrary boundary conditions."
   ],
   "metadata": {
    "collapsed": false,
    "pycharm": {
     "name": "#%% md\n"
    }
   }
  },
  {
   "cell_type": "code",
   "execution_count": null,
   "outputs": [],
   "source": [
    "builder.run()"
   ],
   "metadata": {
    "collapsed": false,
    "pycharm": {
     "name": "#%%\n"
    }
   }
  },
  {
   "cell_type": "markdown",
   "source": [
    "(3) Save POD modes and GP models. The POD modes and the GP models will be saved to save_path"
   ],
   "metadata": {
    "collapsed": false,
    "pycharm": {
     "name": "#%% md\n"
    }
   }
  },
  {
   "cell_type": "code",
   "execution_count": null,
   "outputs": [],
   "source": [
    "builder.save(\n",
    "    save_path=\"{path to save the results}\"\n",
    ")"
   ],
   "metadata": {
    "collapsed": false,
    "pycharm": {
     "name": "#%%\n"
    }
   }
  },
  {
   "cell_type": "markdown",
   "source": [],
   "metadata": {
    "collapsed": false,
    "pycharm": {
     "name": "#%% md\n"
    }
   }
  }
 ],
 "metadata": {
  "kernelspec": {
   "display_name": "Python 3",
   "language": "python",
   "name": "python3"
  },
  "language_info": {
   "codemirror_mode": {
    "name": "ipython",
    "version": 2
   },
   "file_extension": ".py",
   "mimetype": "text/x-python",
   "name": "python",
   "nbconvert_exporter": "python",
   "pygments_lexer": "ipython2",
   "version": "2.7.6"
  }
 },
 "nbformat": 4,
 "nbformat_minor": 0
}